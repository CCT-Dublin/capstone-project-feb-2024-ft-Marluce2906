{
 "cells": [
  {
   "cell_type": "markdown",
   "id": "5e5fe1d7",
   "metadata": {},
   "source": [
    "# 1. Introduction"
   ]
  },
  {
   "cell_type": "markdown",
   "id": "a08f9bb0",
   "metadata": {},
   "source": [
    "O gerenciamento de riscos de crédito desempenha um papel fundamental no setor financeiro, ajudando as instituições a avaliar a probabilidade de inadimplência de clientes em potencial. Em um contexto onde a análise de dados desempenha um papel cada vez mais importante, a aplicação de algoritmos de aprendizado de máquina torna-se uma ferramenta tima  para prever o comportamento dos tomadores de empréstimos.\n",
    "\n",
    "Neste projeto de capstone, explorarei o conjunto de dados \"German Credit Risk - With Target\",disponivel no “Kaggle” que fornece informações sobre clientes de bancos alemães, incluindo características como idade, renda, histórico de crédito e o status de inadimplência em empréstimos anteriores. O objetivo principal é desenvolver e executar um modelo de aprendizado de máquina capaz de prever se um cliente será inadimplente em um empréstimo futuro, com base em suas características individuais.\n",
    "\n",
    "A metodologia adotada segue uma abordagem de gerenciamento de projetos, priorizando etapas como análise exploratória de dados, pré-processamento de dados, implementação de algoritmos de aprendizado de máquina e apresentação eficaz das descobertas. \n",
    "Ao final deste projeto, espero não apenas desenvolver um modelo preditivo robusto, mas também fornecer insights que possam contribuir para uma análise mais precisa e eficaz do risco de crédito, beneficiando tanto as instituições financeiras quanto os clientes em potencial.\n"
   ]
  },
  {
   "cell_type": "markdown",
   "id": "36b441cf",
   "metadata": {},
   "source": [
    "# Importing Libraries "
   ]
  },
  {
   "cell_type": "code",
   "execution_count": 1,
   "id": "b878022d",
   "metadata": {},
   "outputs": [],
   "source": [
    "import pandas as pd\n",
    "import seaborn as sns\n",
    "import numpy as np\n",
    "import matplotlib as plt \n",
    "import matplotlib.pyplot as plt\n",
    "import statsmodels.api as sm\n",
    "import scipy.stats as stats\n",
    "from sklearn.discriminant_analysis import LinearDiscriminantAnalysis as LDA\n",
    "from sklearn.decomposition import PCA\n",
    "import matplotlib.pyplot as plt"
   ]
  },
  {
   "cell_type": "markdown",
   "id": "9941ada9",
   "metadata": {},
   "source": [
    "# 2. EDA (Exploratory of Data Analysis)"
   ]
  },
  {
   "cell_type": "markdown",
   "id": "4aa3a00b",
   "metadata": {},
   "source": [
    "# Data Preparation "
   ]
  },
  {
   "cell_type": "markdown",
   "id": "e8b24507",
   "metadata": {},
   "source": [
    "A etapa de preparação de dados desempenha um papel fundamental no processo de análise de dados e modelagem. Consiste em uma série de procedimentos destinados a garantir que os dados estejam limpos, organizados e prontos para análise. Este resumo destaca as principais atividades realizadas durante a etapa de preparação de dados.\n",
    "\n",
    "1. Limpeza de Dados:\n",
    "A limpeza de dados envolve a identificação e o tratamento de valores ausentes, inconsistências e erros nos dados. Isso inclui técnicas como preenchimento de valores ausentes, remoção de outliers e correção de erros de digitação.\n",
    "\n",
    "2. Transformação de Dados:\n",
    "A transformação de dados é realizada para converter os dados em um formato mais adequado para análise. Isso pode incluir a conversão de tipos de dados, normalização de variáveis numéricas e codificação de variáveis categóricas.\n",
    "\n",
    "3. Seleção de Recursos:\n",
    "A seleção de recursos visa identificar e selecionar os recursos mais relevantes para análise ou modelagem. Isso pode envolver a criação de novas variáveis, remoção de variáveis redundantes ou irrelevantes e dimensionamento de recursos.\n",
    "\n",
    "4. Exploração de Dados:\n",
    "A exploração de dados é realizada para entender melhor as características dos dados e identificar padrões ou tendências. Isso pode incluir a criação de gráficos, histogramas e matrizes de correlação.\n",
    "\n",
    "5. Tratamento de Dados Desequilibrados:\n",
    "Se houver desequilíbrio entre as classes em problemas de classificação, técnicas específicas podem ser aplicadas para lidar com isso, como oversampling, undersampling ou o uso de algoritmos específicos para dados desequilibrados.\n",
    "\n",
    "Em resumo, a etapa de preparação de dados é essencial para garantir a qualidade e a adequação dos dados para análise e modelagem. "
   ]
  },
  {
   "cell_type": "code",
   "execution_count": 3,
   "id": "e3f2753d",
   "metadata": {},
   "outputs": [],
   "source": [
    "dataframe = pd.read_csv(\"german_credit_data.csv\")\n",
    "df = pd.read_csv(\"german_credit_data.csv\")"
   ]
  },
  {
   "cell_type": "code",
   "execution_count": 4,
   "id": "dc304cf4",
   "metadata": {},
   "outputs": [
    {
     "data": {
      "text/html": [
       "<div>\n",
       "<style scoped>\n",
       "    .dataframe tbody tr th:only-of-type {\n",
       "        vertical-align: middle;\n",
       "    }\n",
       "\n",
       "    .dataframe tbody tr th {\n",
       "        vertical-align: top;\n",
       "    }\n",
       "\n",
       "    .dataframe thead th {\n",
       "        text-align: right;\n",
       "    }\n",
       "</style>\n",
       "<table border=\"1\" class=\"dataframe\">\n",
       "  <thead>\n",
       "    <tr style=\"text-align: right;\">\n",
       "      <th></th>\n",
       "      <th>Unnamed: 0</th>\n",
       "      <th>Age</th>\n",
       "      <th>Sex</th>\n",
       "      <th>Job</th>\n",
       "      <th>Housing</th>\n",
       "      <th>Saving accounts</th>\n",
       "      <th>Checking account</th>\n",
       "      <th>Credit amount</th>\n",
       "      <th>Duration</th>\n",
       "      <th>Purpose</th>\n",
       "      <th>Risk</th>\n",
       "    </tr>\n",
       "  </thead>\n",
       "  <tbody>\n",
       "    <tr>\n",
       "      <th>0</th>\n",
       "      <td>0</td>\n",
       "      <td>67</td>\n",
       "      <td>male</td>\n",
       "      <td>2</td>\n",
       "      <td>own</td>\n",
       "      <td>NaN</td>\n",
       "      <td>little</td>\n",
       "      <td>1169</td>\n",
       "      <td>6</td>\n",
       "      <td>radio/TV</td>\n",
       "      <td>good</td>\n",
       "    </tr>\n",
       "    <tr>\n",
       "      <th>1</th>\n",
       "      <td>1</td>\n",
       "      <td>22</td>\n",
       "      <td>female</td>\n",
       "      <td>2</td>\n",
       "      <td>own</td>\n",
       "      <td>little</td>\n",
       "      <td>moderate</td>\n",
       "      <td>5951</td>\n",
       "      <td>48</td>\n",
       "      <td>radio/TV</td>\n",
       "      <td>bad</td>\n",
       "    </tr>\n",
       "    <tr>\n",
       "      <th>2</th>\n",
       "      <td>2</td>\n",
       "      <td>49</td>\n",
       "      <td>male</td>\n",
       "      <td>1</td>\n",
       "      <td>own</td>\n",
       "      <td>little</td>\n",
       "      <td>NaN</td>\n",
       "      <td>2096</td>\n",
       "      <td>12</td>\n",
       "      <td>education</td>\n",
       "      <td>good</td>\n",
       "    </tr>\n",
       "    <tr>\n",
       "      <th>3</th>\n",
       "      <td>3</td>\n",
       "      <td>45</td>\n",
       "      <td>male</td>\n",
       "      <td>2</td>\n",
       "      <td>free</td>\n",
       "      <td>little</td>\n",
       "      <td>little</td>\n",
       "      <td>7882</td>\n",
       "      <td>42</td>\n",
       "      <td>furniture/equipment</td>\n",
       "      <td>good</td>\n",
       "    </tr>\n",
       "    <tr>\n",
       "      <th>4</th>\n",
       "      <td>4</td>\n",
       "      <td>53</td>\n",
       "      <td>male</td>\n",
       "      <td>2</td>\n",
       "      <td>free</td>\n",
       "      <td>little</td>\n",
       "      <td>little</td>\n",
       "      <td>4870</td>\n",
       "      <td>24</td>\n",
       "      <td>car</td>\n",
       "      <td>bad</td>\n",
       "    </tr>\n",
       "  </tbody>\n",
       "</table>\n",
       "</div>"
      ],
      "text/plain": [
       "   Unnamed: 0  Age     Sex  Job Housing Saving accounts Checking account  \\\n",
       "0           0   67    male    2     own             NaN           little   \n",
       "1           1   22  female    2     own          little         moderate   \n",
       "2           2   49    male    1     own          little              NaN   \n",
       "3           3   45    male    2    free          little           little   \n",
       "4           4   53    male    2    free          little           little   \n",
       "\n",
       "   Credit amount  Duration              Purpose  Risk  \n",
       "0           1169         6             radio/TV  good  \n",
       "1           5951        48             radio/TV   bad  \n",
       "2           2096        12            education  good  \n",
       "3           7882        42  furniture/equipment  good  \n",
       "4           4870        24                  car   bad  "
      ]
     },
     "execution_count": 4,
     "metadata": {},
     "output_type": "execute_result"
    }
   ],
   "source": [
    "df.head()"
   ]
  },
  {
   "cell_type": "code",
   "execution_count": 6,
   "id": "0089cdd0",
   "metadata": {},
   "outputs": [
    {
     "data": {
      "text/plain": [
       "(1000, 11)"
      ]
     },
     "execution_count": 6,
     "metadata": {},
     "output_type": "execute_result"
    }
   ],
   "source": [
    "df.shape"
   ]
  },
  {
   "cell_type": "code",
   "execution_count": 8,
   "id": "e71b4903",
   "metadata": {},
   "outputs": [
    {
     "name": "stdout",
     "output_type": "stream",
     "text": [
      "<class 'pandas.core.frame.DataFrame'>\n",
      "RangeIndex: 1000 entries, 0 to 999\n",
      "Data columns (total 11 columns):\n",
      " #   Column            Non-Null Count  Dtype \n",
      "---  ------            --------------  ----- \n",
      " 0   Unnamed: 0        1000 non-null   int64 \n",
      " 1   Age               1000 non-null   int64 \n",
      " 2   Sex               1000 non-null   object\n",
      " 3   Job               1000 non-null   int64 \n",
      " 4   Housing           1000 non-null   object\n",
      " 5   Saving accounts   817 non-null    object\n",
      " 6   Checking account  606 non-null    object\n",
      " 7   Credit amount     1000 non-null   int64 \n",
      " 8   Duration          1000 non-null   int64 \n",
      " 9   Purpose           1000 non-null   object\n",
      " 10  Risk              1000 non-null   object\n",
      "dtypes: int64(5), object(6)\n",
      "memory usage: 86.1+ KB\n"
     ]
    }
   ],
   "source": [
    "df.info()"
   ]
  },
  {
   "cell_type": "code",
   "execution_count": null,
   "id": "d8da670a",
   "metadata": {},
   "outputs": [],
   "source": []
  }
 ],
 "metadata": {
  "kernelspec": {
   "display_name": "Python 3 (ipykernel)",
   "language": "python",
   "name": "python3"
  },
  "language_info": {
   "codemirror_mode": {
    "name": "ipython",
    "version": 3
   },
   "file_extension": ".py",
   "mimetype": "text/x-python",
   "name": "python",
   "nbconvert_exporter": "python",
   "pygments_lexer": "ipython3",
   "version": "3.11.7"
  }
 },
 "nbformat": 4,
 "nbformat_minor": 5
}
